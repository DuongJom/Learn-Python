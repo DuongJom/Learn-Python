{
 "cells": [
  {
   "attachments": {},
   "cell_type": "markdown",
   "metadata": {},
   "source": [
    "<center><b>TOÁN TỬ TRONG PYTHON</b><center>"
   ]
  },
  {
   "attachments": {},
   "cell_type": "markdown",
   "metadata": {},
   "source": [
    "Toán tử được dùng để thực hiện các phép toán trên các biến và giá trị."
   ]
  },
  {
   "attachments": {},
   "cell_type": "markdown",
   "metadata": {},
   "source": [
    "Python chia các toán tử thành các nhóm sau:\n",
    "- Toán tử toán học (Arithmetic operators)\n",
    "- Toán tử gán (Assignment operators)\n",
    "- Toán tử so sánh (Comparison operators)\n",
    "- Toán tử logic (Logical operators)\n",
    "- Toán tử xác định (Identity operators)\n",
    "- Toán tử quan hệ (Membership operators)\n",
    "- Toán tử thao tác với bit (Bitwise operators)"
   ]
  },
  {
   "attachments": {},
   "cell_type": "markdown",
   "metadata": {},
   "source": [
    "**1.Toán tử toán học** \n",
    "<br>Các toán tử toán học được dùng với các giá trị là số để thực hiện các phép toán toán học:<br>\n",
    "<table style='text-align:center;width:70%;margin:0 10% 0 10%;border:1px solid black'>\n",
    "    <tr style='background:green;'>\n",
    "        <th>Ký hiệu</th>\n",
    "        <th>Tên toán tử</th>\n",
    "        <th>Biểu thức</th>\n",
    "        <th>Ví dụ</th>\n",
    "    </tr>\n",
    "    <tr style='background: #3399FF; color:blue'>\n",
    "        <td>+</td>\n",
    "        <td>Cộng</td>\n",
    "        <td>x + y</td>\n",
    "        <td> 3 + 4 = 7</td>\n",
    "    </tr>\n",
    "    <tr style='background: lightblue; color:blue'>\n",
    "        <td>-</td>\n",
    "        <td>Hiệu</td>\n",
    "        <td>x - y</td>\n",
    "        <td> 5 - 3 = 2</td>\n",
    "    </tr>\n",
    "    <tr style='background: #3399FF; color:blue'>\n",
    "        <td>*</td>\n",
    "        <td>Tích</td>\n",
    "        <td>x * y</td>\n",
    "        <td>3 * 4 = 12</td>\n",
    "    </tr>\n",
    "    <tr style='background: lightblue; color:blue'>\n",
    "        <td>/</td>\n",
    "        <td>Chia</td>\n",
    "        <td>x / y</td>\n",
    "        <td>5 / 2 = 2.5</td>\n",
    "    </tr>\n",
    "    <tr style='background: #3399FF; color:blue'>\n",
    "        <td>%</td>\n",
    "        <td>Chia lấy dư</td>\n",
    "        <td>x % y</td>\n",
    "        <td>5 % 2 = 1</td>\n",
    "    </tr>\n",
    "    <tr style='background: lightblue; color:blue'>\n",
    "        <td>**</td>\n",
    "        <td>Mũ</td>\n",
    "        <td>x ** y</td>\n",
    "        <td>5 ** 2 = 25</td>\n",
    "    </tr>\n",
    "    <tr style='background: #3399FF; color:blue'>\n",
    "        <td>//</td>\n",
    "        <td>Chia lấy nguyên</td>\n",
    "        <td>x // y</td>\n",
    "        <td>5 // 2 = 2</td>\n",
    "    </tr>\n",
    "</table>"
   ]
  },
  {
   "attachments": {},
   "cell_type": "markdown",
   "metadata": {},
   "source": [
    "**2. Toán tử gán**\n",
    "<br>Được dùng để giá trị vào biến"
   ]
  },
  {
   "attachments": {},
   "cell_type": "markdown",
   "metadata": {},
   "source": [
    "<table style='text-align:center;width:70%;margin:0 10% 0 10%;'>\n",
    "    <tr style='background:orange;color:white;'>\n",
    "        <th>Toán tử</th>\n",
    "        <th>Ví dụ</th>\n",
    "        <th>Biểu thức tương đương</th>\n",
    "    </tr>\n",
    "    <tr style='background: #FFFF66; color:blue;'>\n",
    "        <td>=</td>\n",
    "        <td>x = 5</td>\n",
    "        <td>x = 5</td>\n",
    "    </tr>\n",
    "    <tr style='background: #FFFF99; color:blue;'>\n",
    "        <td>+=</td>\n",
    "        <td>x += 5</td>\n",
    "        <td>x = x + 5</td>\n",
    "    </tr>\n",
    "    <tr style='background: #FFFF66; color:blue;'>\n",
    "        <td>-=</td>\n",
    "        <td>x -= 5</td>\n",
    "        <td>x = x - 5</td>\n",
    "    </tr>\n",
    "    <tr style='background: #FFFF99; color:blue;'>\n",
    "        <td>*=</td>\n",
    "        <td>x *= 5</td>\n",
    "        <td>x = x * 5</td>\n",
    "    </tr>\n",
    "    <tr style='background: #FFFF66; color:blue;'>\n",
    "        <td>/=</td>\n",
    "        <td>x /= 5</td>\n",
    "        <td>x = x / 5</td>\n",
    "    </tr>\n",
    "    <tr style='background: #FFFF99; color:blue;'>\n",
    "        <td>%=</td>\n",
    "        <td>x %= 5</td>\n",
    "        <td>x = x % 5</td>\n",
    "    </tr>\n",
    "    <tr style='background: #FFFF66; color:blue;'>\n",
    "        <td>//=</td>\n",
    "        <td>x //= 5</td>\n",
    "        <td>x = x // 5</td>\n",
    "    </tr>\n",
    "    <tr style='background: #FFFF99; color:blue;'>\n",
    "        <td>**=</td>\n",
    "        <td>x **= 5</td>\n",
    "        <td>x = x ** 5</td>\n",
    "    </tr>\n",
    "    <tr style='background: #FFFF66; color:blue;'>\n",
    "        <td>&=</td>\n",
    "        <td>x &= 5</td>\n",
    "        <td>x = x & 5</td>\n",
    "    </tr>\n",
    "    <tr style='background: #FFFF99; color:blue;'>\n",
    "        <td>|=</td>\n",
    "        <td>x |= 5</td>\n",
    "        <td>x = x | 5</td>\n",
    "    </tr>\n",
    "    <tr style='background: #FFFF66; color:blue;'>\n",
    "        <td>^=</td>\n",
    "        <td>x ^= 5</td>\n",
    "        <td>x = x ^ 5</td>\n",
    "    </tr>\n",
    "    <tr style='background: #FFFF99; color:blue;'>\n",
    "        <td>>>=</td>\n",
    "        <td>x >>= 5</td>\n",
    "        <td>x = x >> 5</td>\n",
    "    </tr>\n",
    "    <tr style='background: #FFFF66; color:blue;'>\n",
    "        <td><<=</td>\n",
    "        <td>x <<= 5</td>\n",
    "        <td>x = x << 5</td>\n",
    "    </tr>\n",
    "</table>"
   ]
  },
  {
   "cell_type": "code",
   "execution_count": null,
   "metadata": {},
   "outputs": [],
   "source": [
    "x = 3\n",
    "x += 5 #Tương tự x = x + 5 = 3 + 5 = 8\n",
    "x **= 5 #Tương tự x = x**5 = 3**5 = 243"
   ]
  },
  {
   "attachments": {},
   "cell_type": "markdown",
   "metadata": {},
   "source": [
    "**3. Toán tử so sánh**\n",
    "<br>Được dùng để so sánh hai giá trị:<br>\n",
    "<table style='text-align:center;width:70%;margin:0 10% 0 10%;'>\n",
    "    <tr style='background: #FF3333; color:white;'>\n",
    "        <th>Ký hiệu</th>\n",
    "        <th>Tên toán tử</th>\n",
    "        <th>Biểu thức</th>\n",
    "        <th>Ví dụ</th>\n",
    "        <th>Kết quả</th>\n",
    "    </tr>\n",
    "    <tr style='background: #FF9999; color:white;'>\n",
    "        <td>==</td>\n",
    "        <td>So sánh bằng</td>\n",
    "        <td>x == y</td>\n",
    "        <td>3 == 4</td>\n",
    "        <td>False</td>\n",
    "    </tr>\n",
    "    <tr style='background: #FF6666; color:white;'>\n",
    "        <td>!=</td>\n",
    "        <td>So sánh không bằng</td>\n",
    "        <td>x != y</td>\n",
    "        <td> 2 != 3</td>\n",
    "        <td>True</td>\n",
    "    </tr>\n",
    "    <tr style='background: #FF9999; color:white;'>\n",
    "        <td>></td>\n",
    "        <td>So sánh lớn hơn</td>\n",
    "        <td>x > y</td>\n",
    "        <td>3 > 4</td>\n",
    "        <td>False</td>\n",
    "    </tr>\n",
    "    <tr style='background: #FF6666; color:white;'>\n",
    "        <td><</td>\n",
    "        <td>So sánh bé hơn</td>\n",
    "        <td>x < y</td>\n",
    "        <td>5 < 2</td>\n",
    "        <td>False</td>\n",
    "    </tr>\n",
    "    <tr style='background: #FF9999; color:white;'>\n",
    "        <td>>=</td>\n",
    "        <td>So sánh lớn hơn hoặc bằng</td>\n",
    "        <td>x >= y</td>\n",
    "        <td>5 >= 2</td>\n",
    "        <td>True</td>\n",
    "    </tr>\n",
    "    <tr style='background: #FF6666; color:white;'>\n",
    "        <td><=</td>\n",
    "        <td>So sánh bé hơn hoặc bằng</td>\n",
    "        <td>x <= y</td>\n",
    "        <td>5 <= 2</td>\n",
    "        <td>False</td>\n",
    "    </tr>\n",
    "</table>"
   ]
  },
  {
   "attachments": {},
   "cell_type": "markdown",
   "metadata": {},
   "source": [
    "**4. Toán tử logic**\n",
    "<br>Dùng để kết hợp nhiều câu lệnh điều kiện lại với nhau: (x = 4)"
   ]
  },
  {
   "attachments": {},
   "cell_type": "markdown",
   "metadata": {},
   "source": [
    "<table style='text-align:center;width:70%;margin:0 10% 0 10%;'>\n",
    "    <tr style='background:#00FF00;color:blue'>\n",
    "        <th>Toán tử</th>\n",
    "        <th>Mô tả</th>\n",
    "        <th>Ví dụ</th>\n",
    "        <th>Kết quả</th>\n",
    "    </tr>\n",
    "    <tr style='background:#66FF66;color:blue'>\n",
    "        <td>and</td>\n",
    "        <td>Trả về True nếu tất cả các câu lệnh điều kiện đều là True</td>\n",
    "        <td>x < 5 and x < 10</td>\n",
    "        <td>True</td>\n",
    "    </tr>\n",
    "    <tr style='background:#99FF99;color:blue'>\n",
    "        <td>or</td>\n",
    "        <td>Trả về True nếu một trong các câu lệnh điều kiện là True</td>\n",
    "        <td>x < 5 or x < 4</td>\n",
    "        <td>True</td>\n",
    "    </tr>\n",
    "    <tr style='background:#66FF66;color:blue'>\n",
    "        <td>not</td>\n",
    "        <td>Đảo ngược kết quả, trả về False nếu kết quả là True</td>\n",
    "        <td>not(x < 5 and x < 10)</td>\n",
    "        <td>False</td>\n",
    "    </tr>\n",
    "</table>"
   ]
  },
  {
   "attachments": {},
   "cell_type": "markdown",
   "metadata": {},
   "source": [
    "**5. Toán tử xác định**\n",
    "<br>Dùng để so sánh các object, không phải so sánh các object bằng nhau, mà là so sánh xem cac object có cùng là một object hay cùng vị trí bộ nhớ hay không:"
   ]
  },
  {
   "attachments": {},
   "cell_type": "markdown",
   "metadata": {},
   "source": [
    "<table style='text-align:center;width:70%;margin:0 10% 0 10%;'>\n",
    "    <tr style='background:#FF007F;color:white'>\n",
    "        <th>Toán tử</th>\n",
    "        <th>Mô tả</th>\n",
    "        <th>Ví dụ</th>\n",
    "    </tr>\n",
    "    <tr style='background:#FF66FF;color:white'>\n",
    "        <td>is</td>\n",
    "        <td>Trả về True nếu cả 2 biến <b style='color:blue'>cùng</b> một object</td>\n",
    "        <td>x is y</td>\n",
    "    </tr>\n",
    "    <tr style='background:#FF99FF;color:white'>\n",
    "        <td>is not</td>\n",
    "        <td>Trả về True nếu cả 2 biến <b style='color:blue'>không</b> cùng một object</td>\n",
    "        <td>x is not y</td>\n",
    "    </tr>\n",
    "</table>"
   ]
  },
  {
   "cell_type": "code",
   "execution_count": 2,
   "metadata": {},
   "outputs": [
    {
     "name": "stdout",
     "output_type": "stream",
     "text": [
      "True\n",
      "False\n",
      "True\n",
      "True\n"
     ]
    }
   ],
   "source": [
    "x = [\"apple\", \"banana\", \"orange\"]\n",
    "y = [\"apple\", \"banana\", \"orange\"]\n",
    "z = x\n",
    "print(x is z)\n",
    "print(x is y)\n",
    "print(x == y)\n",
    "print(x is not y)"
   ]
  },
  {
   "attachments": {},
   "cell_type": "markdown",
   "metadata": {},
   "source": [
    "**6. Toán tử quan hệ**\n",
    "<br>Dùng để kiểm tra xem một object <b style='color:red'>a</b> có trong một object <b style='color:red'>b</b> hay không: "
   ]
  },
  {
   "attachments": {},
   "cell_type": "markdown",
   "metadata": {},
   "source": [
    "<table style='text-align:center;width:70%;margin:0 10% 0 10%;'>\n",
    "    <tr style='background:#FFFF00;color:black'>\n",
    "        <th>Toán tử</th>\n",
    "        <th>Mô tả</th>\n",
    "        <th>Ví dụ</th>\n",
    "    </tr>\n",
    "    <tr style='background:#FFFF66;color:black'>\n",
    "        <td>ns</td>\n",
    "        <td>Trả về True nếu object <b style='color:red'>a</b> <b style='color:blue'>có trong</b> <b style='color:red'>b</b></td>\n",
    "        <td>a is b</td>\n",
    "    </tr>\n",
    "    <tr style='background:#FFFF99;color:black'>\n",
    "        <td>not in</td>\n",
    "        <td>Trả về True nếu object <b style='color:red'>a</b> <b style='color:blue'>không tồn tại</b> trong object <b style='color:red'>b</b></td>\n",
    "        <td>a is not b</td>\n",
    "    </tr>\n",
    "</table>"
   ]
  },
  {
   "cell_type": "code",
   "execution_count": 5,
   "metadata": {},
   "outputs": [
    {
     "name": "stdout",
     "output_type": "stream",
     "text": [
      "True\n",
      "False\n",
      "True\n"
     ]
    }
   ],
   "source": [
    "x = [\"apple\", \"banana\"]\n",
    "\n",
    "print(\"banana\" in x)\n",
    "print(2 in x)\n",
    "print(True not in x)"
   ]
  },
  {
   "attachments": {},
   "cell_type": "markdown",
   "metadata": {},
   "source": [
    "**7. Toán tử thao tác với bit**\n",
    "<br>Dùng để so sánh các số ở dạng nhị phân"
   ]
  },
  {
   "attachments": {},
   "cell_type": "markdown",
   "metadata": {},
   "source": [
    "<div style='text-align:center;width:70%;margin:0 10% 0 10%;column-count:2'>\n",
    "    <div style='float:left;'>\n",
    "        <table>\n",
    "            <tr>\n",
    "                <th>Số thập phân</th>\n",
    "                <th>Số nhị phân</th>\n",
    "            </tr>\n",
    "            <tr>\n",
    "                <td>0</td>\n",
    "                <td>0000 0000</td>\n",
    "            </tr>\n",
    "            <tr>\n",
    "                <td>1</td>\n",
    "                <td>0000 0001</td>\n",
    "            </tr>\n",
    "            <tr>\n",
    "                <td>2</td>\n",
    "                <td>0000 0010</td>\n",
    "            </tr>\n",
    "            <tr>\n",
    "                <td>3</td>\n",
    "                <td>0000 0011</td>\n",
    "            </tr>\n",
    "            <tr>\n",
    "                <td>4</td>\n",
    "                <td>0000 0100</td>\n",
    "            </tr>\n",
    "            <tr>\n",
    "                <td>5</td>\n",
    "                <td>0000 0101</td>\n",
    "            </tr>\n",
    "            <tr>\n",
    "                <td>6</td>\n",
    "                <td>0000 0110</td>\n",
    "            </tr>\n",
    "            <tr>\n",
    "                <td>7</td>\n",
    "                <td>0000 0111</td>\n",
    "            </tr>\n",
    "        </table>\n",
    "    </div>\n",
    "    <div style='float:right;'>\n",
    "        <table>\n",
    "            <tr>\n",
    "                <th>Số thập phân</th>\n",
    "                <th>Số nhị phân</th>\n",
    "            </tr>\n",
    "            <tr>\n",
    "                <td>8</td>\n",
    "                <td>0000 1000</td>\n",
    "            </tr>\n",
    "            <tr>\n",
    "                <td>9</td>\n",
    "                <td>0000 1001</td>\n",
    "            </tr>\n",
    "            <tr>\n",
    "                <td>10</td>\n",
    "                <td>0000 1010</td>\n",
    "            </tr>\n",
    "            <tr>\n",
    "                <td>11</td>\n",
    "                <td>0000 1011</td>\n",
    "            </tr>\n",
    "            <tr>\n",
    "                <td>12</td>\n",
    "                <td>0000 1100</td>\n",
    "            </tr>\n",
    "            <tr>\n",
    "                <td>13</td>\n",
    "                <td>0000 1101</td>\n",
    "            </tr>\n",
    "            <tr>\n",
    "                <td>14</td>\n",
    "                <td>0000 1110</td>\n",
    "            </tr>\n",
    "            <tr>\n",
    "                <td>15</td>\n",
    "                <td>0000 1111</td>\n",
    "            </tr>\n",
    "        </table>\n",
    "    </div>\n",
    "</div>"
   ]
  },
  {
   "attachments": {},
   "cell_type": "markdown",
   "metadata": {},
   "source": [
    "<table style='text-align:center;width:80%;margin:0 10% 0 10%;'>\n",
    "    <tr style='background:#00CC00;color:white;'>\n",
    "        <th>Toán tử</th>\n",
    "        <th>Tên toán tử</th>\n",
    "        <th>Mô tả</th>\n",
    "        <th>Ví dụ</th>\n",
    "    </tr>\n",
    "    <tr style='background:#66FF66;color:white;'>\n",
    "        <td>&</td>\n",
    "        <td>AND</td>\n",
    "        <td>Nếu cả 2 bit đều là 1 thì giá trị là 1</td>\n",
    "        <td>x & y</td>\n",
    "    </tr>\n",
    "    <tr style='background:#33FF33;color:white;'>\n",
    "        <td>|</td>\n",
    "        <td>OR</td>\n",
    "        <td>Nếu 1 trong 2 bit là 1 thì giá trị là 1</td>\n",
    "        <td>x | y</td>\n",
    "    </tr>\n",
    "    <tr style='background:#66FF66;color:white;'>\n",
    "        <td>^</td>\n",
    "        <td>XOR</td>\n",
    "        <td>Nếu chỉ có 1 trong 2 bit là 1 thì giá trị là 1</td>\n",
    "        <td>x ^ y</td>\n",
    "    </tr>\n",
    "    <tr style='background:#33FF33;color:white;'>\n",
    "        <td>~</td>\n",
    "        <td>NOT</td>\n",
    "        <td>Nếu bit là 1 thì giá trị là 0, và ngược lại</td>\n",
    "        <td>x ~ y</td>\n",
    "    </tr>\n",
    "    <tr style='background:#66FF66;color:white;'>\n",
    "        <td><<</td>\n",
    "        <td>Dịch bit sang trái</td>\n",
    "        <td>Dịch các bit sang trái bằng cách đặt bit 0 vào bên phải của dãy bit và loại bỏ bit ngoài cùng bên trái</td>\n",
    "        <td>x << y</td>\n",
    "    </tr>\n",
    "    <tr style='background:#33FF33;color:white;'>\n",
    "        <td>>></td>\n",
    "        <td>Dịch bit sang phải</td>\n",
    "        <td>Dịch các bit sang phải bằng cách đặt bản sao của bit ngoài cùng bên trái vào bên trái của dãy bit và loại bỏ bit ngoài cùng bên phải</td>\n",
    "        <td>x >> y</td>\n",
    "    </tr>\n",
    "</table>"
   ]
  },
  {
   "attachments": {},
   "cell_type": "markdown",
   "metadata": {},
   "source": [
    "**Cách chuyển đổi giá trị thập phân sang nhị phân theo bảng sau:**"
   ]
  },
  {
   "attachments": {},
   "cell_type": "markdown",
   "metadata": {},
   "source": [
    "<table style='text-align:center;width:80%;margin:0 10% 0 10%;'>\n",
    "    <tr>\n",
    "        <td>Index</td>\n",
    "        <td>7</td>\n",
    "        <td>6</td>\n",
    "        <td>5</td>\n",
    "        <td>4</td>\n",
    "        <td>3</td>\n",
    "        <td>2</td>\n",
    "        <td>1</td>\n",
    "        <td>0</td>\n",
    "    </tr>\n",
    "    <tr style='background:#0078d7; color: white;'>\n",
    "        <td>Tổng bit ở thập phân</td>\n",
    "        <td>128</td>\n",
    "        <td>64</td>\n",
    "        <td>32</td>\n",
    "        <td>16</td>\n",
    "        <td>8</td>\n",
    "        <td>4</td>\n",
    "        <td>2</td>\n",
    "        <td>1</td>\n",
    "    </tr>\n",
    "    <tr>\n",
    "        <td>Giá trị bit</td>\n",
    "        <td></td>\n",
    "        <td></td>\n",
    "        <td></td>\n",
    "        <td></td>\n",
    "        <td></td>\n",
    "        <td></td>\n",
    "        <td></td>\n",
    "        <td></td>\n",
    "    </tr>\n",
    "</table>"
   ]
  },
  {
   "attachments": {},
   "cell_type": "markdown",
   "metadata": {},
   "source": [
    "**8. Độ ưu tiên của các toán tử**\n",
    "<br>Dùng để mô tả thứ tự thực hiện các phép toán"
   ]
  },
  {
   "attachments": {},
   "cell_type": "markdown",
   "metadata": {},
   "source": [
    "Ví dụ 1: Dấu ngoặc đơn () có thứ tự ưu tiên cao nhất, điều này có nghĩa là biểu thức trong dấu ngoặc () phải được đánh giá đầu tiên:"
   ]
  },
  {
   "cell_type": "code",
   "execution_count": 1,
   "metadata": {},
   "outputs": [
    {
     "name": "stdout",
     "output_type": "stream",
     "text": [
      "0\n"
     ]
    }
   ],
   "source": [
    "print((6 + 3) - (6 + 3))"
   ]
  },
  {
   "attachments": {},
   "cell_type": "markdown",
   "metadata": {},
   "source": [
    "Ví dụ 2: Phép nhân * có độ ưu tiên cao hơn phép cộng +, do đó phép nhân sẽ được đánh giá trước phép cộng:"
   ]
  },
  {
   "cell_type": "code",
   "execution_count": 2,
   "metadata": {},
   "outputs": [
    {
     "name": "stdout",
     "output_type": "stream",
     "text": [
      "115\n"
     ]
    }
   ],
   "source": [
    "print(100 + 5*3)"
   ]
  },
  {
   "attachments": {},
   "cell_type": "markdown",
   "metadata": {},
   "source": [
    "Thứ tự ưu tiên được mô tả trong bảng sau, bắt đầu với độ ưu tiên cao nhất (từ trên xuống):"
   ]
  },
  {
   "attachments": {},
   "cell_type": "markdown",
   "metadata": {},
   "source": [
    "<table style='text-align:center;width:80%;margin:0 10% 0 10%;'>\n",
    "    <tr style='background:#0000CC'>\n",
    "        <th>Toán tử</th>\n",
    "        <th>Mô tả</th>\n",
    "        <th>Ví dụ</th>\n",
    "        <th>Kết quả</th>\n",
    "    </tr>\n",
    "    <tr style='background:#9999FF;color:blue;'>\n",
    "        <td>()</td>\n",
    "        <td>Dấu ngoặc đơn</td>\n",
    "        <td>(6 + 3) - 2</td>\n",
    "        <td>7</td>\n",
    "    </tr>\n",
    "    <tr style='background:#6666FF;color:white;'>\n",
    "        <td>**</td>\n",
    "        <td>Toán tử mũ</td>\n",
    "        <td>3 ** 3 - 2</td>\n",
    "        <td>25</td>\n",
    "    </tr>\n",
    "    <tr style='background:#9999FF;color:blue;'>\n",
    "        <td>+x -x ~x</td>\n",
    "        <td>Toán tử cộng 1 ngôi, trừ 1 ngôi, toán tử NOT</td>\n",
    "        <td>100 + ~3</td>\n",
    "        <td>96</td>\n",
    "    </tr>\n",
    "    <tr style='background:#6666FF;color:white;'>\n",
    "        <td>* / // %</td>\n",
    "        <td> Nhân, chia, chia lấy nguyên, chia lấy dư</td>\n",
    "        <td>100 + 5 * 3</td>\n",
    "        <td>115</td>\n",
    "    </tr>\n",
    "    <tr style='background:#9999FF;color:blue;'>\n",
    "        <td>+ -</td>\n",
    "        <td> Cộng, trừ</td>\n",
    "        <td>100 - 5 * 3</td>\n",
    "        <td>85</td>\n",
    "    </tr>\n",
    "    <tr style='background:#6666FF;color:white;'>\n",
    "        <td><< >></td>\n",
    "        <td> Dịch bit trái, dịch bit phải</td>\n",
    "        <td>8 >> 4 - 2</td>\n",
    "        <td>2</td>\n",
    "    </tr>\n",
    "    <tr style='background:#9999FF;color:blue;'>\n",
    "        <td>&</td>\n",
    "        <td>Bitwise AND</td>\n",
    "        <td>6 & 2 + 1</td>\n",
    "        <td>2</td>\n",
    "    </tr>\n",
    "    <tr style='background:#6666FF;color:white;'>\n",
    "        <td>^</td>\n",
    "        <td>Bitwise XOR</td>\n",
    "        <td>6 ^ 2 + 1</td>\n",
    "        <td>5</td>\n",
    "    </tr>\n",
    "    <tr style='background:#9999FF;color:blue;'>\n",
    "        <td>|</td>\n",
    "        <td>Bitwise OR</td>\n",
    "        <td>6 | 2 + 1</td>\n",
    "        <td>7</td>\n",
    "    </tr>\n",
    "    <tr style='background:#6666FF;color:white;'>\n",
    "        <td>== != > >= < <= is is not in not in</td>\n",
    "        <td>Toán tử so sánh, xác định, quan hệ</td>\n",
    "        <td>5 == 4 + 1</td>\n",
    "        <td>True</td>\n",
    "    </tr>\n",
    "    <tr style='background:#9999FF;color:blue;'>\n",
    "        <td>not</td>\n",
    "        <td>Logical NOT</td>\n",
    "        <td>not 5 == 5</td>\n",
    "        <td>False</td>\n",
    "    </tr>\n",
    "    <tr style='background:#6666FF;color:white;'>\n",
    "        <td>and</td>\n",
    "        <td>Logical AND</td>\n",
    "        <td>1 or 2 and 3</td>\n",
    "        <td>1</td>\n",
    "    </tr>\n",
    "    <tr style='background:#9999FF;color:blue;'>\n",
    "        <td>or</td>\n",
    "        <td>Logical OR</td>\n",
    "        <td>4 or 5 + 10 or 8</td>\n",
    "        <td>4</td>\n",
    "    </tr>\n",
    "</table>"
   ]
  },
  {
   "attachments": {},
   "cell_type": "markdown",
   "metadata": {},
   "source": [
    "<i>Nếu hai toán tử có cùng độ ưu tiên thì biểu thức được đánh giá từ trái sang phải</i>"
   ]
  },
  {
   "cell_type": "code",
   "execution_count": 3,
   "metadata": {},
   "outputs": [
    {
     "name": "stdout",
     "output_type": "stream",
     "text": [
      "5\n"
     ]
    }
   ],
   "source": [
    "print(5 + 4 - 7 + 3)"
   ]
  },
  {
   "attachments": {},
   "cell_type": "markdown",
   "metadata": {},
   "source": [
    "<footer style='margin: 50px 50px 0px 0px;'>\n",
    "    <div>\n",
    "    <hr/>\n",
    "    Biên dịch: Nguyễn Ngọc Dương \n",
    "    <br>Facebook: <a href=\"https://www.facebook.com/danh.kean.353803/\">https://www.facebook.com/danh.kean.353803/</a>\n",
    "    <br>Email: <a>ngocduong5642@gmail.com</a>\n",
    "    <div>\n",
    "</footer>"
   ]
  }
 ],
 "metadata": {
  "kernelspec": {
   "display_name": "base",
   "language": "python",
   "name": "python3"
  },
  "language_info": {
   "codemirror_mode": {
    "name": "ipython",
    "version": 3
   },
   "file_extension": ".py",
   "mimetype": "text/x-python",
   "name": "python",
   "nbconvert_exporter": "python",
   "pygments_lexer": "ipython3",
   "version": "3.10.9"
  },
  "orig_nbformat": 4
 },
 "nbformat": 4,
 "nbformat_minor": 2
}
