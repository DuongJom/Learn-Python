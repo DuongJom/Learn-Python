{
 "cells": [
  {
   "attachments": {},
   "cell_type": "markdown",
   "metadata": {},
   "source": [
    "Hãy chuyển đổi các số thập phân sau sang số nhị phân"
   ]
  },
  {
   "attachments": {},
   "cell_type": "markdown",
   "metadata": {},
   "source": [
    "<table style='text-align:center;width:80%;margin:0 10% 0 10%;'>\n",
    "    <tr>\n",
    "        <td>Index</td>\n",
    "        <td>7</td>\n",
    "        <td>6</td>\n",
    "        <td>5</td>\n",
    "        <td>4</td>\n",
    "        <td>3</td>\n",
    "        <td>2</td>\n",
    "        <td>1</td>\n",
    "        <td>0</td>\n",
    "    </tr>\n",
    "    <tr style='background:#0078d7; color: white;'>\n",
    "        <td>Tổng bit ở thập phân</td>\n",
    "        <td>128</td>\n",
    "        <td>64</td>\n",
    "        <td>32</td>\n",
    "        <td>16</td>\n",
    "        <td>8</td>\n",
    "        <td>4</td>\n",
    "        <td>2</td>\n",
    "        <td>1</td>\n",
    "    </tr>\n",
    "    <tr>\n",
    "        <td>Giá trị bit</td>\n",
    "        <td></td>\n",
    "        <td></td>\n",
    "        <td></td>\n",
    "        <td></td>\n",
    "        <td></td>\n",
    "        <td></td>\n",
    "        <td></td>\n",
    "        <td></td>\n",
    "    </tr>\n",
    "</table>"
   ]
  },
  {
   "cell_type": "code",
   "execution_count": 17,
   "metadata": {},
   "outputs": [],
   "source": [
    "def convertDecToBin(num):\n",
    "    return format(num, 'b')"
   ]
  },
  {
   "cell_type": "code",
   "execution_count": null,
   "metadata": {},
   "outputs": [],
   "source": []
  },
  {
   "cell_type": "code",
   "execution_count": null,
   "metadata": {},
   "outputs": [],
   "source": []
  }
 ],
 "metadata": {
  "kernelspec": {
   "display_name": "base",
   "language": "python",
   "name": "python3"
  },
  "language_info": {
   "codemirror_mode": {
    "name": "ipython",
    "version": 3
   },
   "file_extension": ".py",
   "mimetype": "text/x-python",
   "name": "python",
   "nbconvert_exporter": "python",
   "pygments_lexer": "ipython3",
   "version": "3.10.9"
  },
  "orig_nbformat": 4
 },
 "nbformat": 4,
 "nbformat_minor": 2
}
