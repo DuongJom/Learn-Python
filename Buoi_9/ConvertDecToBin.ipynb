{
 "cells": [
  {
   "attachments": {},
   "cell_type": "markdown",
   "metadata": {},
   "source": [
    "Các bước để biến đổi 1 giá trị thập phân sang giá trị nhị phân (8 bit):\n",
    "- Bước 1: Phân tích giá trị thập phân thành tổng của các giá trị 1,2,4,8,16,32,64,128 (sao cho các số hạng không trùng lặp nhau).\n",
    "- Bước 2: Sắp xếp mỗi cách phân tích tổng theo thứ tự giảm dần của các số hạng.\n",
    "- Bước 3: Chọn giá trị lớn nhất trong các cách phân tích tổng ở bước 2 và điền giá trị 1 vào vị trí tương ứng trong bảng Biến đổi nhị phân.\n",
    "- Bước 4: Điền số hạng còn thiếu trong cách phân tích với số hạng lớn nhất ở bước 3.\n",
    "- Bước 5: Điền giá trị 0 vào các ô còn lại trong bảng."
   ]
  },
  {
   "attachments": {},
   "cell_type": "markdown",
   "metadata": {},
   "source": [
    "<table style='text-align:center;width:80%;margin:0 10% 0 10%;'>\n",
    "    <tr>\n",
    "        <td>Index</td>\n",
    "        <td>7</td>\n",
    "        <td>6</td>\n",
    "        <td>5</td>\n",
    "        <td>4</td>\n",
    "        <td>3</td>\n",
    "        <td>2</td>\n",
    "        <td>1</td>\n",
    "        <td>0</td>\n",
    "    </tr>\n",
    "    <tr style='background:#0078d7; color: white;'>\n",
    "        <td>Tổng bit ở thập phân</td>\n",
    "        <td>128</td>\n",
    "        <td>64</td>\n",
    "        <td>32</td>\n",
    "        <td>16</td>\n",
    "        <td>8</td>\n",
    "        <td>4</td>\n",
    "        <td>2</td>\n",
    "        <td>1</td>\n",
    "    </tr>\n",
    "    <tr>\n",
    "        <td>Giá trị bit</td>\n",
    "        <td></td>\n",
    "        <td></td>\n",
    "        <td></td>\n",
    "        <td></td>\n",
    "        <td></td>\n",
    "        <td></td>\n",
    "        <td></td>\n",
    "        <td></td>\n",
    "    </tr>\n",
    "</table>"
   ]
  },
  {
   "attachments": {},
   "cell_type": "markdown",
   "metadata": {},
   "source": [
    "Biến đổi giá trị 5 (hệ thập phân) sang hệ nhị phân:"
   ]
  },
  {
   "attachments": {},
   "cell_type": "markdown",
   "metadata": {},
   "source": [
    "- Bước 1: Phân tích 5 thành tổng của các giá trị:\n",
    "<br><i style='color:yellow'>5 = 1 + 4 (giá trị 5 chỉ có 1 cách phân tích là 1 + 4 hoặc 4 + 1)</i>"
   ]
  },
  {
   "attachments": {},
   "cell_type": "markdown",
   "metadata": {},
   "source": [
    "- Bước 2: Sắp xếp các số hạng trong mỗi cách phân tích theo thứ tự giảm dần.\n",
    "<br><i style='color:yellow'>5 = 4 + 1</i>"
   ]
  },
  {
   "attachments": {},
   "cell_type": "markdown",
   "metadata": {},
   "source": [
    "-Bước 3: Chọn giá trị lớn nhất giữa các số hạng trong toàn bộ các cách phân tích và điền vào bảng\n",
    "<br><i style='color:yellow'>Số hạng lớn nhất là 4</i> "
   ]
  },
  {
   "attachments": {},
   "cell_type": "markdown",
   "metadata": {},
   "source": [
    "<table style='text-align:center;width:80%;margin:0 10% 0 10%;'>\n",
    "    <tr>\n",
    "        <td>Index</td>\n",
    "        <td>7</td>\n",
    "        <td>6</td>\n",
    "        <td>5</td>\n",
    "        <td>4</td>\n",
    "        <td>3</td>\n",
    "        <td>2</td>\n",
    "        <td>1</td>\n",
    "        <td>0</td>\n",
    "    </tr>\n",
    "    <tr style='background:#0078d7; color: white;'>\n",
    "        <td>Tổng bit ở thập phân</td>\n",
    "        <td>128</td>\n",
    "        <td>64</td>\n",
    "        <td>32</td>\n",
    "        <td>16</td>\n",
    "        <td>8</td>\n",
    "        <td>4</td>\n",
    "        <td>2</td>\n",
    "        <td>1</td>\n",
    "    </tr>\n",
    "    <tr>\n",
    "        <td>Giá trị bit</td>\n",
    "        <td></td>\n",
    "        <td></td>\n",
    "        <td></td>\n",
    "        <td></td>\n",
    "        <td></td>\n",
    "        <td style='background:green'>1</td>\n",
    "        <td></td>\n",
    "        <td></td>\n",
    "    </tr>\n",
    "</table>"
   ]
  },
  {
   "attachments": {},
   "cell_type": "markdown",
   "metadata": {},
   "source": [
    "- Bước 4: Điền số hạng còn thiếu trong các cách phân tích vào bảng\n",
    "<br><i style='color:yellow'>Số hạng còn thiếu là 1</i> "
   ]
  },
  {
   "attachments": {},
   "cell_type": "markdown",
   "metadata": {},
   "source": [
    "<table style='text-align:center;width:80%;margin:0 10% 0 10%;'>\n",
    "    <tr>\n",
    "        <td>Index</td>\n",
    "        <td>7</td>\n",
    "        <td>6</td>\n",
    "        <td>5</td>\n",
    "        <td>4</td>\n",
    "        <td>3</td>\n",
    "        <td>2</td>\n",
    "        <td>1</td>\n",
    "        <td>0</td>\n",
    "    </tr>\n",
    "    <tr style='background:#0078d7; color: white;'>\n",
    "        <td>Tổng bit ở thập phân</td>\n",
    "        <td>128</td>\n",
    "        <td>64</td>\n",
    "        <td>32</td>\n",
    "        <td>16</td>\n",
    "        <td>8</td>\n",
    "        <td>4</td>\n",
    "        <td>2</td>\n",
    "        <td>1</td>\n",
    "    </tr>\n",
    "    <tr>\n",
    "        <td>Giá trị bit</td>\n",
    "        <td></td>\n",
    "        <td></td>\n",
    "        <td></td>\n",
    "        <td></td>\n",
    "        <td></td>\n",
    "        <td style='background:green'>1</td>\n",
    "        <td></td>\n",
    "        <td style='background:green'>1</td>\n",
    "    </tr>\n",
    "</table>"
   ]
  },
  {
   "attachments": {},
   "cell_type": "markdown",
   "metadata": {},
   "source": [
    "- Bước 5: Điền bit 0 vào các ô còn lại trong bảng"
   ]
  },
  {
   "attachments": {},
   "cell_type": "markdown",
   "metadata": {},
   "source": [
    "<table style='text-align:center;width:80%;margin:0 10% 0 10%;'>\n",
    "    <tr>\n",
    "        <td>Index</td>\n",
    "        <td>7</td>\n",
    "        <td>6</td>\n",
    "        <td>5</td>\n",
    "        <td>4</td>\n",
    "        <td>3</td>\n",
    "        <td>2</td>\n",
    "        <td>1</td>\n",
    "        <td>0</td>\n",
    "    </tr>\n",
    "    <tr style='background:#0078d7; color: white;'>\n",
    "        <td>Tổng bit ở thập phân</td>\n",
    "        <td>128</td>\n",
    "        <td>64</td>\n",
    "        <td>32</td>\n",
    "        <td>16</td>\n",
    "        <td>8</td>\n",
    "        <td>4</td>\n",
    "        <td>2</td>\n",
    "        <td>1</td>\n",
    "    </tr>\n",
    "    <tr>\n",
    "        <td>Giá trị bit</td>\n",
    "        <td style='background:#FFFF33;color:blue'>0</td>\n",
    "        <td style='background:#FFFF33;color:blue'>0</td>\n",
    "        <td style='background:#FFFF33;color:blue'>0</td>\n",
    "        <td style='background:#FFFF33;color:blue'>0</td>\n",
    "        <td style='background:#FFFF33;color:blue'>0</td>\n",
    "        <td style='background:green'>1</td>\n",
    "        <td style='background:#FFFF33;color:blue'>0</td>\n",
    "        <td style='background:green'>1</td>\n",
    "    </tr>\n",
    "</table>"
   ]
  },
  {
   "attachments": {},
   "cell_type": "markdown",
   "metadata": {},
   "source": [
    "Sau khi điền hết các ô trong bảng thì bạn sẽ nhận được giá trị nhị phân cần tìm.\n",
    "<br>Ở đây: <b style='color:green'>5 (thập phân) = 00000101 (nhị phân)</b>"
   ]
  },
  {
   "attachments": {},
   "cell_type": "markdown",
   "metadata": {},
   "source": [
    "<b>Biến đổi các giá trị sau sang nhị phân: 19, 35, 178, 200, 80, 101, 154, 115, 256, 99</b>"
   ]
  }
 ],
 "metadata": {
  "language_info": {
   "name": "python"
  },
  "orig_nbformat": 4
 },
 "nbformat": 4,
 "nbformat_minor": 2
}
