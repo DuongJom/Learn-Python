{
 "cells": [
  {
   "attachments": {},
   "cell_type": "markdown",
   "metadata": {},
   "source": [
    "<center><b style='color:blue;'>GIỚI THIỆU VỀ ĐỐI TƯỢNG LIST TRONG PYTHON</b><center>"
   ]
  },
  {
   "cell_type": "code",
   "execution_count": 2,
   "metadata": {},
   "outputs": [
    {
     "data": {
      "text/plain": [
       "list"
      ]
     },
     "execution_count": 2,
     "metadata": {},
     "output_type": "execute_result"
    }
   ],
   "source": [
    "myList = [\"apple\", \"banana\", \"cherry\"]\n",
    "type(myList)"
   ]
  },
  {
   "attachments": {},
   "cell_type": "markdown",
   "metadata": {},
   "source": [
    "**1.Đối tượng List**<br>\n",
    "- List được dùng để <i style='color:green;'>chứa nhiều giá trị trong một biến duy nhất.</i>\n",
    "- List là một trong 4 kiểu dữ liệu <i style='color:green;'>có sẵn</i> trong Python, nó được dùng để chứa một tập hợp các dữ liệu. <i style='color:green;'>Ngoài đối tượng List thì Python còn có Tuple, Set, và Dictionary (tất cả đều có chất lượng và cách sử dụng khác nhau)</i>\n",
    "- List được tạo bằng cách dùng dấu ngoặc <b style='color:blue;'>[]</b>"
   ]
  },
  {
   "cell_type": "code",
   "execution_count": 3,
   "metadata": {},
   "outputs": [
    {
     "name": "stdout",
     "output_type": "stream",
     "text": [
      "['apple', 'banana', 'cherry']\n"
     ]
    }
   ],
   "source": [
    "thisList = [\"apple\", \"banana\", \"cherry\"]\n",
    "print(thisList)"
   ]
  },
  {
   "attachments": {},
   "cell_type": "markdown",
   "metadata": {},
   "source": [
    "**2. Phần tử của List**<br>\n",
    "- Phần tử của List được sắp xếp theo thứ tự, có thể thay đổi, và cho phép các giá trị trùng lặp.\n",
    "- Phần tử của List đều có chỉ mục (index), phần tử đầu tiên có index là 0, phần từ thứ hai có index là 1,..."
   ]
  },
  {
   "attachments": {},
   "cell_type": "markdown",
   "metadata": {},
   "source": [
    "**3. Sắp xếp List**<br>\n",
    "- Như đề cập ở nội dung trước thì đối tượng List được sắp xếp theo thứ tự, điều đó có nghĩa là các phần tử của List có một thứ tự nhất định và thứ tự đó không thay đổi.\n",
    "- Nếu bạn thêm một phần tử mới vào List thì phần tử mới đó sẽ được đặt ở cuối List.\n",
    "- Tuy nhiên, Python sẽ có một vài phương thức sẽ thay đổi thứ tự, nhưng tổng quát thì thứ tự của các phần tử sẽ không thay đổi."
   ]
  },
  {
   "attachments": {},
   "cell_type": "markdown",
   "metadata": {},
   "source": [
    "**4.Có thể thay đổi**<br>\n",
    "List có thể thay đổi, điều này có nghĩa là sau khi List được tạo thì bạn có thể change, thêm và xóa bỏ phần tử trong List. "
   ]
  },
  {
   "attachments": {},
   "cell_type": "markdown",
   "metadata": {},
   "source": [
    "**5.Cho phép giá trị trùng lặp**<br>\n",
    "Bởi vì List có index nên list có thể chứa các phần tử có giá trị giống nhau."
   ]
  },
  {
   "cell_type": "code",
   "execution_count": 5,
   "metadata": {},
   "outputs": [
    {
     "name": "stdout",
     "output_type": "stream",
     "text": [
      "['apple', 'banana', 'cherry', 'apple', 'cherry']\n"
     ]
    }
   ],
   "source": [
    "thisList = [\"apple\", \"banana\", \"cherry\", \"apple\", \"cherry\"]\n",
    "print(thisList)"
   ]
  },
  {
   "attachments": {},
   "cell_type": "markdown",
   "metadata": {},
   "source": [
    "**6. Độ dài của List**<br>\n",
    "Để xác định có bao nhiêu phần tử mà List có thì bạn có thể dùng hàm len():"
   ]
  },
  {
   "cell_type": "code",
   "execution_count": 6,
   "metadata": {},
   "outputs": [
    {
     "name": "stdout",
     "output_type": "stream",
     "text": [
      "3\n"
     ]
    }
   ],
   "source": [
    "thislist = [\"apple\", \"banana\", \"cherry\"]\n",
    "print(len(thislist))"
   ]
  },
  {
   "attachments": {},
   "cell_type": "markdown",
   "metadata": {},
   "source": [
    "**7.Kiểu dữ liệu của các phần tử trong List**<br>\n",
    "- Các phần tử trong List có thể có bất kỳ kiểu dữ liệu nào: "
   ]
  },
  {
   "cell_type": "code",
   "execution_count": 8,
   "metadata": {},
   "outputs": [
    {
     "name": "stdout",
     "output_type": "stream",
     "text": [
      "['apple', 'banana', 'cherry']\n",
      "[1, 5, 7, 9, 3]\n",
      "[True, False, False]\n"
     ]
    }
   ],
   "source": [
    "list1 = [\"apple\", \"banana\", \"cherry\"]\n",
    "list2 = [1, 5, 7, 9, 3]\n",
    "list3 = [True, False, False]\n",
    "\n",
    "print(list1)\n",
    "print(list2)\n",
    "print(list3)"
   ]
  },
  {
   "attachments": {},
   "cell_type": "markdown",
   "metadata": {},
   "source": [
    "- List có thể chứa các phần tử có kiểu dữ liệu khác nhau:"
   ]
  },
  {
   "cell_type": "code",
   "execution_count": 9,
   "metadata": {},
   "outputs": [
    {
     "name": "stdout",
     "output_type": "stream",
     "text": [
      "['abc', 34, True, 40, 'male']\n"
     ]
    }
   ],
   "source": [
    "list1 = [\"abc\", 34, True, 40, \"male\"]\n",
    "print(list1)"
   ]
  },
  {
   "attachments": {},
   "cell_type": "markdown",
   "metadata": {},
   "source": [
    "**8. Hàm type()**<br>\n",
    "Trong Python, list được định nghĩa như một đối tượng với kiểu dữ liệu \"list\":"
   ]
  },
  {
   "cell_type": "code",
   "execution_count": 12,
   "metadata": {},
   "outputs": [
    {
     "name": "stdout",
     "output_type": "stream",
     "text": [
      "<class 'list'>\n"
     ]
    }
   ],
   "source": [
    "mylist = [\"apple\", \"banana\", \"cherry\"]\n",
    "print(type(mylist))"
   ]
  },
  {
   "attachments": {},
   "cell_type": "markdown",
   "metadata": {},
   "source": [
    "**9. Hàm khởi tạo list()**<br>\n",
    "Ngoài việc dùng dấu ngoặc [] thì bạn cũng có thể dùng hàm khởi tạo list() để tạo ra đối tượng (object) List."
   ]
  },
  {
   "cell_type": "code",
   "execution_count": 13,
   "metadata": {},
   "outputs": [
    {
     "name": "stdout",
     "output_type": "stream",
     "text": [
      "['apple', 'banana', 'cherry']\n"
     ]
    }
   ],
   "source": [
    "thislist = list((\"apple\", \"banana\", \"cherry\"))\n",
    "print(thislist)"
   ]
  },
  {
   "attachments": {},
   "cell_type": "markdown",
   "metadata": {},
   "source": [
    "**10. Các kiểu dữ liệu tập hợp trong Python**<br>\n",
    "Python có 4 kiểu dữ liệu tập hợp:<br>\n",
    "- <b style='color:red'>List</b> là một tập hợp được sắp xếp và có thể thay đổi và cho phép phần tử trùng lặp.\n",
    "- <b style='color:green'>Tuple</b> là một tập hợp được sắp xếp, không thể thay đổi và cho phép phần tử trùng lặp.\n",
    "- <b style='color:blue'>Set</b> là một tập hợp không được sắp xếp, phần tử trong đối tượng này không thể thay đổi nhưng bạn có thể xóa hoặc thêm phần tử bất cứ khi nào bạn muốn, Set không cho phép phần tử trùng lặp.\n",
    "- <b style='color:yellow'>Dictionary</b> là một tập hợp được sắp xếp, có thể thay đổi, và không cho phép phần tử trùng lặp."
   ]
  },
  {
   "cell_type": "code",
   "execution_count": 16,
   "metadata": {},
   "outputs": [
    {
     "name": "stdout",
     "output_type": "stream",
     "text": [
      "[1, 2, 3, 4, 5]\n",
      "<class 'list'>\n",
      "(1, 2, 3, 4, 5)\n",
      "<class 'tuple'>\n",
      "{1, 2, 3, 4, 5}\n",
      "<class 'set'>\n",
      "{'language': 'Python', 'age': 24}\n",
      "<class 'dict'>\n"
     ]
    }
   ],
   "source": [
    "myList = [1,2,3,4,5] #list\n",
    "myTuple = (1,2,3,4,5) #tuple\n",
    "mySet = {1,2,3,4,5} #set\n",
    "myDictionary = {\"language\":\"Python\", \"age\": 24} #dictionary\n",
    "\n",
    "print(myList)\n",
    "print(type(myList))\n",
    "print(myTuple)\n",
    "print(type(myTuple))\n",
    "print(mySet)\n",
    "print(type(mySet))\n",
    "print(myDictionary)\n",
    "print(type(myDictionary))"
   ]
  },
  {
   "attachments": {},
   "cell_type": "markdown",
   "metadata": {},
   "source": [
    "<footer style='margin: 50px 50px 0px 0px;'>\n",
    "    <div>\n",
    "    <hr/>\n",
    "    Biên dịch: Nguyễn Ngọc Dương \n",
    "    <br>Facebook: <a href=\"https://www.facebook.com/danh.kean.353803/\">https://www.facebook.com/danh.kean.353803/</a>\n",
    "    <br>Email: <a>ngocduong5642@gmail.com</a>\n",
    "    <div>\n",
    "</footer>"
   ]
  }
 ],
 "metadata": {
  "kernelspec": {
   "display_name": "base",
   "language": "python",
   "name": "python3"
  },
  "language_info": {
   "codemirror_mode": {
    "name": "ipython",
    "version": 3
   },
   "file_extension": ".py",
   "mimetype": "text/x-python",
   "name": "python",
   "nbconvert_exporter": "python",
   "pygments_lexer": "ipython3",
   "version": "3.10.9"
  },
  "orig_nbformat": 4
 },
 "nbformat": 4,
 "nbformat_minor": 2
}
