{
 "cells": [
  {
   "attachments": {},
   "cell_type": "markdown",
   "metadata": {},
   "source": [
    "<center><b style='color:blue'>VÒNG LẶP FOR</b><center>"
   ]
  },
  {
   "attachments": {},
   "cell_type": "markdown",
   "metadata": {},
   "source": [
    "- Vòng lặp <i style='color:red'>for</i> được sử dụng để lặp qua một chuỗi (có thể là list, tuple, dictionary, set hoặc string).\n",
    "- Với vòng lặp <i style='color:red'>for</i>, chúng ta có thể thực thi một tập hợp các câu lệnh, một lần cho mỗi mục trong danh sách, bộ dữ liệu, bộ, v.v."
   ]
  },
  {
   "attachments": {},
   "cell_type": "markdown",
   "metadata": {},
   "source": [
    "**Ví dụ:** In ra các phần tử của một đối tượng list:"
   ]
  },
  {
   "cell_type": "code",
   "execution_count": 1,
   "metadata": {},
   "outputs": [
    {
     "name": "stdout",
     "output_type": "stream",
     "text": [
      "apple\n",
      "banana\n",
      "cherry\n"
     ]
    }
   ],
   "source": [
    "fruits = [\"apple\", \"banana\", \"cherry\"]\n",
    "for x in fruits:\n",
    "  print(x)"
   ]
  },
  {
   "attachments": {},
   "cell_type": "markdown",
   "metadata": {},
   "source": [
    "<i>Vòng lặp for không yêu cầu phải đặt biến lặp chỉ mục trước.</i>"
   ]
  },
  {
   "attachments": {},
   "cell_type": "markdown",
   "metadata": {},
   "source": [
    "**1. Lặp qua một chuỗi**<br>\n",
    "Như các bài trước, chuỗi cũng là một đối tượng có thể lặp, nó chứa một chuỗi các ký tự:"
   ]
  },
  {
   "attachments": {},
   "cell_type": "markdown",
   "metadata": {},
   "source": [
    "**Ví dụ:** Lặp qua các ký tự trong chuỗi \"banana\":"
   ]
  },
  {
   "cell_type": "code",
   "execution_count": 2,
   "metadata": {},
   "outputs": [
    {
     "name": "stdout",
     "output_type": "stream",
     "text": [
      "b\n",
      "a\n",
      "n\n",
      "a\n",
      "n\n",
      "a\n"
     ]
    }
   ],
   "source": [
    "for x in \"banana\":\n",
    "  print(x)"
   ]
  },
  {
   "attachments": {},
   "cell_type": "markdown",
   "metadata": {},
   "source": [
    "**2. Câu lệnh break**<br>\n",
    "Với câu lệnh <i style='color:red'>break</i>, bạn có dùng vòng lặp trước khi nó lặp qua tất cả các phần tử"
   ]
  },
  {
   "attachments": {},
   "cell_type": "markdown",
   "metadata": {},
   "source": [
    "**Ví dụ:** Thoát khỏi vòng lặp khi x là \"banana\":"
   ]
  },
  {
   "cell_type": "code",
   "execution_count": 2,
   "metadata": {},
   "outputs": [
    {
     "name": "stdout",
     "output_type": "stream",
     "text": [
      "apple\n",
      "banana\n"
     ]
    }
   ],
   "source": [
    "fruits = [\"apple\", \"banana\", \"cherry\"]\n",
    "for x in fruits:\n",
    "  print(x)\n",
    "  if x == \"banana\":\n",
    "    break"
   ]
  },
  {
   "attachments": {},
   "cell_type": "markdown",
   "metadata": {},
   "source": [
    "**Ví dụ:** Thoát khỏi vòng lặp khi x là \"banana\", nhưng câu lệnh <i style='color:red'>break</i> đặt trước hàm <i style='color:red'>print()</i>"
   ]
  },
  {
   "cell_type": "code",
   "execution_count": 4,
   "metadata": {},
   "outputs": [
    {
     "name": "stdout",
     "output_type": "stream",
     "text": [
      "apple\n"
     ]
    }
   ],
   "source": [
    "fruits = [\"apple\", \"banana\", \"cherry\"]\n",
    "for x in fruits:\n",
    "  if x == \"banana\":\n",
    "    break\n",
    "  print(x)"
   ]
  },
  {
   "attachments": {},
   "cell_type": "markdown",
   "metadata": {},
   "source": [
    "**3. Câu lệnh continue**<br>\n",
    "Với câu lệnh <i style='color:green'>continue</i>, chúng ta có thể dừng lần lặp hiện tại của vòng lặp và tiếp tục lần lặp kế tiếp"
   ]
  },
  {
   "attachments": {},
   "cell_type": "markdown",
   "metadata": {},
   "source": [
    "**Ví dụ:** Lặp qua các phần tử của list nhưng không in ra phần tử là \"banana\""
   ]
  },
  {
   "cell_type": "code",
   "execution_count": 3,
   "metadata": {},
   "outputs": [
    {
     "name": "stdout",
     "output_type": "stream",
     "text": [
      "apple\n",
      "cherry\n"
     ]
    }
   ],
   "source": [
    "fruits = [\"apple\", \"banana\", \"cherry\"]\n",
    "for x in fruits:\n",
    "  if x == \"banana\":\n",
    "    continue\n",
    "  print(x)"
   ]
  },
  {
   "attachments": {},
   "cell_type": "markdown",
   "metadata": {},
   "source": [
    "**4. Hàm range()**<br>\n",
    "- Để lặp qua một bộ mã một số lần xác định, chúng ta có thể sử dụng hàm <b style='color:red'>range()</b>.\n",
    "- Hàm <b style='color:red'>range()</b> trả về một dãy số, bắt đầu từ 0 theo mặc định và tăng dần theo 1 (theo mặc định) và kết thúc tại một số đã chỉ định."
   ]
  },
  {
   "attachments": {},
   "cell_type": "markdown",
   "metadata": {},
   "source": [
    "**Ví dụ:** Dùng hàm <b style='color:red'>range()</b> để in ra các giá trị từ 0 đến 5"
   ]
  },
  {
   "cell_type": "code",
   "execution_count": 6,
   "metadata": {},
   "outputs": [
    {
     "name": "stdout",
     "output_type": "stream",
     "text": [
      "0\n",
      "1\n",
      "2\n",
      "3\n",
      "4\n",
      "5\n"
     ]
    }
   ],
   "source": [
    "for x in range(6):\n",
    "  print(x)"
   ]
  },
  {
   "attachments": {},
   "cell_type": "markdown",
   "metadata": {},
   "source": [
    "<i>Lưu ý: <b style='color:red'>range(6)</b> không phải là các giá trị từ 0 đến 6, mà là các giá trị từ 0 đến 5.</i>"
   ]
  },
  {
   "attachments": {},
   "cell_type": "markdown",
   "metadata": {},
   "source": [
    "Hàm <b style='color:red'>range()</b> mặc định là 0 làm giá trị bắt đầu, tuy nhiên có thể chỉ định giá trị bắt đầu bằng cách thêm một tham số: range(2, 6) , có nghĩa là các giá trị từ 2 đến 6 (nhưng không bao gồm 6)"
   ]
  },
  {
   "attachments": {},
   "cell_type": "markdown",
   "metadata": {},
   "source": [
    "**Ví dụ:** Dùng tham số start của hàm <b style='color:red'>range()</b> để in ra các giá trị từ 2 đến 6 nhưng không bao gồm 6:"
   ]
  },
  {
   "cell_type": "code",
   "execution_count": 5,
   "metadata": {},
   "outputs": [
    {
     "name": "stdout",
     "output_type": "stream",
     "text": [
      "2\n",
      "3\n",
      "4\n",
      "5\n"
     ]
    }
   ],
   "source": [
    "for x in range(2, 6):\n",
    "  print(x)"
   ]
  },
  {
   "attachments": {},
   "cell_type": "markdown",
   "metadata": {},
   "source": [
    "Hàm <b style='color:red'>range()</b> mặc định tăng chuỗi lên 1, tuy nhiên, có thể chỉ định bước nhảy bằng cách thêm tham số thứ ba: <b style='color:red'>range(2,30,3)</b>"
   ]
  },
  {
   "cell_type": "code",
   "execution_count": 4,
   "metadata": {},
   "outputs": [
    {
     "name": "stdout",
     "output_type": "stream",
     "text": [
      "2\n",
      "5\n",
      "8\n",
      "11\n",
      "14\n",
      "17\n",
      "20\n",
      "23\n",
      "26\n",
      "29\n"
     ]
    }
   ],
   "source": [
    "for x in range(2, 30, 3):\n",
    "  print(x)"
   ]
  },
  {
   "attachments": {},
   "cell_type": "markdown",
   "metadata": {},
   "source": [
    "**5. Dùng câu lệnh else trong vòng lặp**<br>\n",
    "Từ khóa <b style='color:#0078d7'>else</b> trong một vòng lặp chỉ định một khối mã sẽ được thực thi khi vòng lặp kết thúc"
   ]
  },
  {
   "attachments": {},
   "cell_type": "markdown",
   "metadata": {},
   "source": [
    "**Ví dụ:** In tất cả các số từ 0 đến 5, và in ra thông báo khi vòng lặp kết thúc:"
   ]
  },
  {
   "cell_type": "code",
   "execution_count": 7,
   "metadata": {},
   "outputs": [
    {
     "name": "stdout",
     "output_type": "stream",
     "text": [
      "0\n",
      "1\n",
      "2\n",
      "3\n",
      "4\n",
      "5\n",
      "Finally finished!\n"
     ]
    }
   ],
   "source": [
    "for x in range(6):\n",
    "      print(x)\n",
    "else:\n",
    "  print(\"Finally finished!\")"
   ]
  },
  {
   "attachments": {},
   "cell_type": "markdown",
   "metadata": {},
   "source": [
    "<i>Lưu ý: Khối <b style='color:#0078d7'>else</b> sẽ KHÔNG được thực thi nếu vòng lặp bị dừng bởi một câu lệnh <b style='color:red'>break</b></i>"
   ]
  },
  {
   "cell_type": "code",
   "execution_count": 8,
   "metadata": {},
   "outputs": [
    {
     "name": "stdout",
     "output_type": "stream",
     "text": [
      "0\n",
      "1\n",
      "2\n"
     ]
    }
   ],
   "source": [
    "for x in range(6):\n",
    "    if x == 3: break\n",
    "    print(x)\n",
    "else:\n",
    "    print(\"Finally finished!\")"
   ]
  },
  {
   "attachments": {},
   "cell_type": "markdown",
   "metadata": {},
   "source": [
    "**6. Vòng Lặp Lồng Nhau**<br>\n",
    "- Một vòng lặp lồng nhau là một vòng lặp bên trong một vòng lặp.\n",
    "- \"Vòng lặp bên trong\" sẽ được thực hiện một lần cho mỗi lần lặp lại của \"vòng lặp bên ngoài\""
   ]
  },
  {
   "attachments": {},
   "cell_type": "markdown",
   "metadata": {},
   "source": [
    "**Ví dụ:** In ra mỗi tính từ đối với từng loại quả:"
   ]
  },
  {
   "cell_type": "code",
   "execution_count": 12,
   "metadata": {},
   "outputs": [
    {
     "name": "stdout",
     "output_type": "stream",
     "text": [
      "red - apple\n",
      "red - banana\n",
      "red - cherry\n",
      "big - apple\n",
      "big - banana\n",
      "big - cherry\n",
      "tasty - apple\n",
      "tasty - banana\n",
      "tasty - cherry\n"
     ]
    }
   ],
   "source": [
    "adj = [\"red\", \"big\", \"tasty\"]\n",
    "fruits = [\"apple\", \"banana\", \"cherry\"]\n",
    "\n",
    "for x in adj:\n",
    "  for y in fruits:\n",
    "    print(\"{0} - {1}\".format(x, y))"
   ]
  },
  {
   "attachments": {},
   "cell_type": "markdown",
   "metadata": {},
   "source": [
    "**7. Câu lệnh pass**<br>\n",
    "Vòng lặp <i style='color:blue'>for</i> không thể để trống, nhưng nếu vì lý do nào đó bạn có một vòng lặp không có nội dung, hãy đặt câu lệnh <i style='color:red'>pass</i> vào để tránh gặp lỗi."
   ]
  },
  {
   "attachments": {},
   "cell_type": "markdown",
   "metadata": {},
   "source": [
    "**Ví dụ:**"
   ]
  },
  {
   "cell_type": "code",
   "execution_count": 13,
   "metadata": {},
   "outputs": [],
   "source": [
    "for x in [0, 1, 2]:\n",
    "  pass"
   ]
  },
  {
   "attachments": {},
   "cell_type": "markdown",
   "metadata": {},
   "source": [
    "<footer style='margin: 50px 50px 0px 0px;'>\n",
    "    <div>\n",
    "    <hr/>\n",
    "    Biên dịch: Nguyễn Ngọc Dương \n",
    "    <br>Facebook: <a href=\"https://www.facebook.com/danh.kean.353803/\">https://www.facebook.com/danh.kean.353803/</a>\n",
    "    <br>Email: <a>ngocduong5642@gmail.com</a>\n",
    "    <div>\n",
    "</footer>"
   ]
  }
 ],
 "metadata": {
  "kernelspec": {
   "display_name": "Python 3",
   "language": "python",
   "name": "python3"
  },
  "language_info": {
   "codemirror_mode": {
    "name": "ipython",
    "version": 3
   },
   "file_extension": ".py",
   "mimetype": "text/x-python",
   "name": "python",
   "nbconvert_exporter": "python",
   "pygments_lexer": "ipython3",
   "version": "3.10.9"
  },
  "orig_nbformat": 4
 },
 "nbformat": 4,
 "nbformat_minor": 2
}
