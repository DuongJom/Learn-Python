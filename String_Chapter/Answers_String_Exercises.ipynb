{
 "cells": [
  {
   "attachments": {},
   "cell_type": "markdown",
   "metadata": {},
   "source": [
    "<center><b>STRING EXERCISES - ANSWERS</b></center>"
   ]
  },
  {
   "attachments": {},
   "cell_type": "markdown",
   "metadata": {},
   "source": [
    "**1. Dùng hàm thích hợp để in ra độ dài của một chuỗi bất kì**"
   ]
  },
  {
   "cell_type": "code",
   "execution_count": 1,
   "metadata": {},
   "outputs": [
    {
     "name": "stdout",
     "output_type": "stream",
     "text": [
      "11\n"
     ]
    }
   ],
   "source": [
    "#Điền code tại đây\n",
    "txt = \"Hello World\"\n",
    "print(len(txt))"
   ]
  },
  {
   "attachments": {},
   "cell_type": "markdown",
   "metadata": {},
   "source": [
    "**2. Lấy ra ký tự đầu tiên của chuỗi \"Hello World\"**"
   ]
  },
  {
   "cell_type": "code",
   "execution_count": 2,
   "metadata": {},
   "outputs": [
    {
     "name": "stdout",
     "output_type": "stream",
     "text": [
      "H\n"
     ]
    }
   ],
   "source": [
    "#Điền code tại đây\n",
    "txt = \"Hello World\"\n",
    "print(txt[0])"
   ]
  },
  {
   "attachments": {},
   "cell_type": "markdown",
   "metadata": {},
   "source": [
    "**3. Lấy ra các ký tự từ vị trí 2 đến 4 từ chuỗi \"Hello World\"**"
   ]
  },
  {
   "cell_type": "code",
   "execution_count": 3,
   "metadata": {},
   "outputs": [
    {
     "name": "stdout",
     "output_type": "stream",
     "text": [
      "llo\n"
     ]
    }
   ],
   "source": [
    "#Điền code tại đây\n",
    "txt = \"Hello World\"\n",
    "print(txt[2:5])"
   ]
  },
  {
   "attachments": {},
   "cell_type": "markdown",
   "metadata": {},
   "source": [
    "**4. Dùng hàm thích hợp để trả về chuỗi mà chuỗi đó không có bất kỳ khoảng trắng nào ở đầu chuỗi hoặc cuối chuỗi**"
   ]
  },
  {
   "cell_type": "code",
   "execution_count": 4,
   "metadata": {},
   "outputs": [
    {
     "name": "stdout",
     "output_type": "stream",
     "text": [
      "Hello World\n"
     ]
    }
   ],
   "source": [
    "#Điền code tại đây\n",
    "txt = \"    Hello World    \"\n",
    "print(txt.strip())"
   ]
  },
  {
   "attachments": {},
   "cell_type": "markdown",
   "metadata": {},
   "source": [
    "**5. Chuyển đổi giá trị của biến <i style='color:#0078d7'>txt</i> sang giá trị in hoa**"
   ]
  },
  {
   "cell_type": "code",
   "execution_count": 5,
   "metadata": {},
   "outputs": [
    {
     "name": "stdout",
     "output_type": "stream",
     "text": [
      "HELLO WORLD\n"
     ]
    }
   ],
   "source": [
    "#Điền code tại đây\n",
    "txt = \"Hello World\"\n",
    "print(txt.upper())"
   ]
  },
  {
   "attachments": {},
   "cell_type": "markdown",
   "metadata": {},
   "source": [
    "**6.Chuyển đổi giá trị của biến <i style='color:#0078d7'>txt</i> sang giá trị in thường**"
   ]
  },
  {
   "cell_type": "code",
   "execution_count": 6,
   "metadata": {},
   "outputs": [
    {
     "name": "stdout",
     "output_type": "stream",
     "text": [
      "hello world\n"
     ]
    }
   ],
   "source": [
    "#Điền code tại đây\n",
    "txt = \"Hello World\"\n",
    "print(txt.lower())"
   ]
  },
  {
   "attachments": {},
   "cell_type": "markdown",
   "metadata": {},
   "source": [
    "**7. Dùng hàm thích hợp để thay thế ký tự <i style='color:blue;'>H</i> bằng ký tự <i style='color:red'>J</i>**"
   ]
  },
  {
   "cell_type": "code",
   "execution_count": 7,
   "metadata": {},
   "outputs": [
    {
     "name": "stdout",
     "output_type": "stream",
     "text": [
      "Jello World\n"
     ]
    }
   ],
   "source": [
    "#Điền code tại đây\n",
    "txt = \"Hello World\"\n",
    "print(txt.replace(\"H\", \"J\"))"
   ]
  },
  {
   "attachments": {},
   "cell_type": "markdown",
   "metadata": {},
   "source": [
    "**8. Hãy bổ sung dòng code còn thiếu để in ra được chuỗi sau**\n",
    "<br><center> **<i>\"My name is John, and I am 36\"</i>**</center>"
   ]
  },
  {
   "cell_type": "code",
   "execution_count": 8,
   "metadata": {},
   "outputs": [
    {
     "name": "stdout",
     "output_type": "stream",
     "text": [
      "My name is John, and I am 36\n"
     ]
    }
   ],
   "source": [
    "#Điền code tại đây\n",
    "age = 36\n",
    "txt = \"My name is John, and I am {}\"\n",
    "print(txt.format(age))"
   ]
  },
  {
   "attachments": {},
   "cell_type": "markdown",
   "metadata": {},
   "source": [
    "<footer style='margin: 50px 50px 0px 0px;'>\n",
    "    <div>\n",
    "    <hr/>\n",
    "    Biên dịch: Nguyễn Ngọc Dương \n",
    "    <br>Facebook: <a href=\"https://www.facebook.com/danh.kean.353803/\">https://www.facebook.com/danh.kean.353803/</a>\n",
    "    <br>Email: <a>ngocduong5642@gmail.com</a>\n",
    "    <div>\n",
    "</footer>"
   ]
  }
 ],
 "metadata": {
  "kernelspec": {
   "display_name": "base",
   "language": "python",
   "name": "python3"
  },
  "language_info": {
   "codemirror_mode": {
    "name": "ipython",
    "version": 3
   },
   "file_extension": ".py",
   "mimetype": "text/x-python",
   "name": "python",
   "nbconvert_exporter": "python",
   "pygments_lexer": "ipython3",
   "version": "3.10.9"
  },
  "orig_nbformat": 4
 },
 "nbformat": 4,
 "nbformat_minor": 2
}
