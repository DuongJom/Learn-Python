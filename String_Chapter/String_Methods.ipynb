{
 "cells": [
  {
   "attachments": {},
   "cell_type": "markdown",
   "metadata": {},
   "source": [
    "**1. partition(str): Hàm trả về 1 đối tượng tuple, trong đó chuỗi được chia thành 3 phần**\n",
    "<br>+ Part 1: tất cả mọi thứ ở trước chuỗi str\n",
    "<br>+ Part 2: chuỗi str\n",
    "<br>+ Part 3: phần ở sau chuỗi str"
   ]
  },
  {
   "cell_type": "code",
   "execution_count": 2,
   "metadata": {},
   "outputs": [
    {
     "name": "stdout",
     "output_type": "stream",
     "text": [
      "('I ', 'have', ' a banana and I like eat banana.')\n"
     ]
    }
   ],
   "source": [
    "a = \"I have a banana and I like eat banana.\"\n",
    "b = a.partition(\"have\")\n",
    "print(b)"
   ]
  },
  {
   "attachments": {},
   "cell_type": "markdown",
   "metadata": {},
   "source": [
    "**2. replace(oldValue, newValue): Hàm trả về chuỗi, trong đó giá trị oldValue trong chuỗi được thay thế bằng giá trị newValue.**"
   ]
  },
  {
   "cell_type": "code",
   "execution_count": 3,
   "metadata": {},
   "outputs": [
    {
     "name": "stdout",
     "output_type": "stream",
     "text": [
      "I hwve w bwnwnw wnd I like ewt bwnwnw.\n",
      "I have a apple and I like eat apple.\n"
     ]
    }
   ],
   "source": [
    "b = a.replace(\"a\",\"w\")\n",
    "print(b)\n",
    "\n",
    "b = a.replace(\"banana\", \"apple\")\n",
    "print(b)"
   ]
  },
  {
   "attachments": {},
   "cell_type": "markdown",
   "metadata": {},
   "source": [
    "**3. rfind(searchValue, start, end): Hàm trả về vị trí của lần xuất hiện cuối cùng của giá trị searchValue trong chuỗi**\n",
    "**từ vị trí start đến vị trí end. Nếu không tìm thấy giá trị searchValue thì trả về -1. (Hàm này tương tự hàm rindex())**\n",
    "   + searchValue: giá trị cần tìm\n",
    "   + start: vị trí bắt đầu tìm, mặc định là 0\n",
    "   + end: vị trí kết thúc tìm, mặc định là vị trí kết thúc của chuỗi"
   ]
  },
  {
   "cell_type": "code",
   "execution_count": 5,
   "metadata": {},
   "outputs": [
    {
     "name": "stdout",
     "output_type": "stream",
     "text": [
      "31\n",
      "16\n",
      "-1\n"
     ]
    }
   ],
   "source": [
    "a = \"I have a banana and I like eat banana.\"\n",
    "b = a.rfind(\"banana\")\n",
    "print(b)\n",
    "\n",
    "b = a.rfind(\"and\")\n",
    "print(b)\n",
    "\n",
    "b = a.rfind(\"apple\")\n",
    "print(b)"
   ]
  },
  {
   "attachments": {},
   "cell_type": "markdown",
   "metadata": {},
   "source": [
    "**4. rjust(lenOfString, charToJustify): Hàm trả về chuỗi được căn lề phải**\n",
    "     <br>+ lenOfString: tổng độ dài của chuỗi\n",
    "     <br>+ charToJustify: kí tự dùng để justify chuỗi"
   ]
  },
  {
   "cell_type": "code",
   "execution_count": 7,
   "metadata": {},
   "outputs": [
    {
     "name": "stdout",
     "output_type": "stream",
     "text": [
      "-----Hello\n",
      "Hello\n",
      " Hello\n"
     ]
    }
   ],
   "source": [
    "a = \"Hello\"\n",
    "b = a.rjust(10, '-')\n",
    "print(b)\n",
    "\n",
    "b = a.rjust(4,'-')\n",
    "print(b) #b = Hello\n",
    "\n",
    "b = a.rjust(6)\n",
    "print(b)"
   ]
  },
  {
   "attachments": {},
   "cell_type": "markdown",
   "metadata": {},
   "source": [
    "**5. rpartition(searchValue): Hàm tìm kiếm lần xuất hiện cuối cùng của giá trị searchValue trong chuỗi, và cắt chuỗi thành 3 phần tương tự như hàm partition()**\n",
    "    <br>+ Part 1: tất cả mọi thứ ở trước searchValue\n",
    "    <br>+ Part 2: searchValue\n",
    "    <br>+ Part 3: phần ở sau searchValue"
   ]
  },
  {
   "cell_type": "code",
   "execution_count": 9,
   "metadata": {},
   "outputs": [
    {
     "name": "stdout",
     "output_type": "stream",
     "text": [
      "(\"Because I don't know programming, \", 'so', ' I word hard than others.')\n",
      "(\"Because I don't\", ' know', ' programming, so I word hard than others.')\n",
      "(\"Because I don't\", ' know ', 'programming, so I word hard than others.')\n"
     ]
    }
   ],
   "source": [
    "a = \"Because I don't know programming, so I word hard than others.\"\n",
    "b = a.rpartition(\"so\")\n",
    "print(b)\n",
    "\n",
    "b = a.rpartition(\" know\")\n",
    "print(b)\n",
    "\n",
    "b = a.rpartition(\" know \")\n",
    "print(b)"
   ]
  },
  {
   "attachments": {},
   "cell_type": "markdown",
   "metadata": {},
   "source": [
    "**6. rsplit(separator, maxSplit): Hàm sẽ tách chuỗi dựa trên ký tự separator, và trả về một list.**\n",
    "    <br>+ separator: Ký tự dùng để phân tách chuỗi\n",
    "    <br>+ maxSplit: Số lượng split tối đa có thể thực hiện. Nếu maxSplit = -1 thì hàm sẽ split toàn bộ "
   ]
  },
  {
   "cell_type": "code",
   "execution_count": 10,
   "metadata": {},
   "outputs": [
    {
     "name": "stdout",
     "output_type": "stream",
     "text": [
      "['apple', 'banana', 'orange', 'lemon']\n",
      "['apple, ', ', orange, lemon']\n"
     ]
    }
   ],
   "source": [
    "a = \"apple, banana, orange, lemon\"\n",
    "#Split 1: \"apple, banana, orange\" \"lemon\"\n",
    "#Split 2: \"apple, banana\" \"orange\" \"lemon\"\n",
    "b = a.rsplit(\", \")\n",
    "print(b)\n",
    "\n",
    "b = a.rsplit(\"banana\")\n",
    "print(b)"
   ]
  },
  {
   "cell_type": "code",
   "execution_count": 11,
   "metadata": {},
   "outputs": [
    {
     "name": "stdout",
     "output_type": "stream",
     "text": [
      "['apple', 'banana', 'orange', 'lemon']\n"
     ]
    }
   ],
   "source": [
    "b = a.rsplit(\", \", 4)\n",
    "print(b)"
   ]
  },
  {
   "attachments": {},
   "cell_type": "markdown",
   "metadata": {},
   "source": [
    "**7. rstrip(splitStr): Hàm trả về chuỗi được xóa splitStr dư thừa (splitStr phải ở cuối chuỗi, mặc định splitStr là khoảng trắng).**"
   ]
  },
  {
   "cell_type": "code",
   "execution_count": 12,
   "metadata": {},
   "outputs": [
    {
     "name": "stdout",
     "output_type": "stream",
     "text": [
      "of all fruits       banana is my favorite\n",
      "     banana\n"
     ]
    }
   ],
   "source": [
    "a = \"      banana     \"\n",
    "b = a.rstrip()\n",
    "print(\"of all fruits\",b, \"is my favorite\")\n",
    "\n",
    "a = \"     banana00000\"\n",
    "b = a.rstrip(\"0\")\n",
    "print(b)"
   ]
  },
  {
   "attachments": {},
   "cell_type": "markdown",
   "metadata": {},
   "source": [
    "**8. split(separator): Hàm sẽ tách chuỗi dựa trên separator, và trả về list.**"
   ]
  },
  {
   "cell_type": "code",
   "execution_count": 13,
   "metadata": {},
   "outputs": [
    {
     "name": "stdout",
     "output_type": "stream",
     "text": [
      "['apple', 'banana', 'orange']\n",
      "['apple, ban', 'orange']\n"
     ]
    }
   ],
   "source": [
    "a = \"apple, banana, orange\"\n",
    "b = a.split(\", \")\n",
    "print(b)\n",
    "\n",
    "b = a.split(\"ana, \")\n",
    "print(b)"
   ]
  },
  {
   "cell_type": "code",
   "execution_count": 14,
   "metadata": {},
   "outputs": [
    {
     "name": "stdout",
     "output_type": "stream",
     "text": [
      "['apple,', 'banana,', 'orange']\n"
     ]
    }
   ],
   "source": [
    "b = a.split()\n",
    "print(b)"
   ]
  },
  {
   "attachments": {},
   "cell_type": "markdown",
   "metadata": {},
   "source": [
    "**9. splitlines(keepLineBreak): Hàm sẽ tách chuỗi tại vị trí ngắt dòng (line break) và trả về list**\n",
    "    <br>+ keepLineBreak: Giữ lại ký tự \\n nếu có giá trị là True, mặc định là False"
   ]
  },
  {
   "cell_type": "code",
   "execution_count": 6,
   "metadata": {},
   "outputs": [
    {
     "name": "stdout",
     "output_type": "stream",
     "text": [
      "['Thank you for the music', 'Welcome to the jungle']\n"
     ]
    }
   ],
   "source": [
    "a = \"\"\"Thank you for the music\\n\n",
    "Welcome to the jungle\"\"\"\n",
    "b = a.splitlines()\n",
    "print(b)"
   ]
  },
  {
   "cell_type": "code",
   "execution_count": 7,
   "metadata": {},
   "outputs": [
    {
     "name": "stdout",
     "output_type": "stream",
     "text": [
      "['Thank you for the music\\n', 'Welcome to the jungle']\n"
     ]
    }
   ],
   "source": [
    "b = a.splitlines(True)\n",
    "print(b)"
   ]
  },
  {
   "attachments": {},
   "cell_type": "markdown",
   "metadata": {},
   "source": [
    "**10. startwith(startStr, start, end): Hàm trả về True nếu chuỗi bắt đầu bằng startStr từ start đến end, ngược lại thì trả về False**\n",
    "    <br>+ startStr: giá trị để kiểm tra xem chuỗi có bắt đầu bằng nó không\n",
    "    <br>+ start: vị trí bắt đầu tìm kiếm startStr\n",
    "    <br>+ end: vị trí kết thúc tìm kiếm startStr\n"
   ]
  },
  {
   "cell_type": "code",
   "execution_count": 8,
   "metadata": {},
   "outputs": [
    {
     "name": "stdout",
     "output_type": "stream",
     "text": [
      "True\n"
     ]
    }
   ],
   "source": [
    "a = \"Hello, welcome to my world.\"\n",
    "b = a.startswith(\"Hello\")\n",
    "print(b)"
   ]
  },
  {
   "cell_type": "code",
   "execution_count": 9,
   "metadata": {},
   "outputs": [
    {
     "name": "stdout",
     "output_type": "stream",
     "text": [
      "False\n"
     ]
    }
   ],
   "source": [
    "b = a.startswith(\"welcome\")\n",
    "print(b)"
   ]
  },
  {
   "cell_type": "code",
   "execution_count": 10,
   "metadata": {},
   "outputs": [
    {
     "name": "stdout",
     "output_type": "stream",
     "text": [
      "True\n"
     ]
    }
   ],
   "source": [
    "b = a.startswith(\"welcome\", 7)\n",
    "print(b)"
   ]
  },
  {
   "cell_type": "code",
   "execution_count": 15,
   "metadata": {},
   "outputs": [
    {
     "name": "stdout",
     "output_type": "stream",
     "text": [
      "False\n"
     ]
    }
   ],
   "source": [
    "b = a.startswith(\"welcome\", 8, 20)\n",
    "print(b)"
   ]
  },
  {
   "attachments": {},
   "cell_type": "markdown",
   "metadata": {},
   "source": [
    "**11. strip(chars): Hàm sẽ xóa chars dư thừa ở đầu và cuối chuỗi và trả về chuỗi sau khi xóa**"
   ]
  },
  {
   "cell_type": "code",
   "execution_count": 14,
   "metadata": {},
   "outputs": [
    {
     "name": "stdout",
     "output_type": "stream",
     "text": [
      "banana\n"
     ]
    }
   ],
   "source": [
    "a = \",,,,,rrttgg.....banana....rrr\"\n",
    "b = a.strip(\",.grt\")\n",
    "print(b)"
   ]
  },
  {
   "attachments": {},
   "cell_type": "markdown",
   "metadata": {},
   "source": [
    "**12. swapcase(): Hàm chuyển đổi từ chuỗi in thường sang chuỗi in hoa, và ngược lại**"
   ]
  },
  {
   "cell_type": "code",
   "execution_count": 15,
   "metadata": {},
   "outputs": [
    {
     "name": "stdout",
     "output_type": "stream",
     "text": [
      "HELLO\n"
     ]
    }
   ],
   "source": [
    "a = \"hello\"\n",
    "b = a.swapcase()\n",
    "print(b)"
   ]
  },
  {
   "cell_type": "code",
   "execution_count": 16,
   "metadata": {},
   "outputs": [
    {
     "name": "stdout",
     "output_type": "stream",
     "text": [
      "hello\n"
     ]
    }
   ],
   "source": [
    "a = \"HELLO\"\n",
    "b = a.swapcase()\n",
    "print(b)"
   ]
  },
  {
   "attachments": {},
   "cell_type": "markdown",
   "metadata": {},
   "source": [
    "**13. title(): Hàm sẽ biến đổi ký tự đầu tiên của mỗi từ trong chuỗi sang ký tự in hoa**"
   ]
  },
  {
   "cell_type": "code",
   "execution_count": 17,
   "metadata": {},
   "outputs": [
    {
     "name": "stdout",
     "output_type": "stream",
     "text": [
      "Welcome To My World\n"
     ]
    }
   ],
   "source": [
    "a = \"Welcome to my world\"\n",
    "b = a.title()\n",
    "print(b)"
   ]
  },
  {
   "attachments": {},
   "cell_type": "markdown",
   "metadata": {},
   "source": [
    "**14. str.translate(table): Hàm sẽ trả về chuỗi đã được dịch.**\n",
    "    <br>- table: Có thể là đối tượng dictionary hoặc map, nó sẽ mô tả cách thực hiện thay thế các ký tự trong chuỗi bằng các ký tự tương ứng trong table (table được tạo ra khi sử dụng hàm maketrans()) "
   ]
  },
  {
   "cell_type": "code",
   "execution_count": 19,
   "metadata": {},
   "outputs": [
    {
     "name": "stdout",
     "output_type": "stream",
     "text": [
      "Hello Pam!\n"
     ]
    }
   ],
   "source": [
    "a = \"Hello Sam!\"\n",
    "table = str.maketrans(\"S\", \"P\")\n",
    "#S\n",
    "#P\n",
    "print(a.translate(table))"
   ]
  },
  {
   "cell_type": "code",
   "execution_count": 20,
   "metadata": {},
   "outputs": [
    {
     "name": "stdout",
     "output_type": "stream",
     "text": [
      "Gello Sys!\n"
     ]
    }
   ],
   "source": [
    "table = str.maketrans(\"Ham\", \"Gys\")\n",
    "#H a m\n",
    "#G y s\n",
    "print(a.translate(table))"
   ]
  },
  {
   "attachments": {},
   "cell_type": "markdown",
   "metadata": {},
   "source": [
    "**15. upper(): Hàm trả về chuỗi với các ký tự được in hoa.**"
   ]
  },
  {
   "cell_type": "code",
   "execution_count": 21,
   "metadata": {},
   "outputs": [
    {
     "name": "stdout",
     "output_type": "stream",
     "text": [
      "HELLO\n"
     ]
    }
   ],
   "source": [
    "a = \"heLLo\"\n",
    "b = a.upper()\n",
    "print(b)"
   ]
  },
  {
   "attachments": {},
   "cell_type": "markdown",
   "metadata": {},
   "source": [
    "**16. zfill(lenOfStr): Hàm sẽ điền vào chuỗi với số lượng số 0 ở vị trí bắt đầu chuỗi**\n",
    "    <br>+ lenOfStr: tổng độ dài chuỗi"
   ]
  },
  {
   "cell_type": "code",
   "execution_count": 22,
   "metadata": {},
   "outputs": [
    {
     "name": "stdout",
     "output_type": "stream",
     "text": [
      "0000000055\n"
     ]
    }
   ],
   "source": [
    "a = \"55\"\n",
    "b = a.zfill(10)\n",
    "print(b)"
   ]
  },
  {
   "cell_type": "code",
   "execution_count": 23,
   "metadata": {},
   "outputs": [
    {
     "name": "stdout",
     "output_type": "stream",
     "text": [
      "00000hello\n",
      "welcome to the jungle\n",
      "000010.000\n"
     ]
    }
   ],
   "source": [
    "a = \"hello\"\n",
    "b = \"welcome to the jungle\"\n",
    "c = \"10.000\"\n",
    "\n",
    "print(a.zfill(10))\n",
    "print(b.zfill(10))\n",
    "print(c.zfill(10))"
   ]
  },
  {
   "attachments": {},
   "cell_type": "markdown",
   "metadata": {},
   "source": [
    "<footer style='margin: 50px 50px 0px 0px;'>\n",
    "    <div>\n",
    "    <hr/>\n",
    "    Biên dịch: Nguyễn Ngọc Dương \n",
    "    <br>Facebook: <a href=\"https://www.facebook.com/danh.kean.353803/\">https://www.facebook.com/danh.kean.353803/</a>\n",
    "    <br>Email: <a>ngocduong5642@gmail.com</a>\n",
    "    <div>\n",
    "</footer>"
   ]
  }
 ],
 "metadata": {
  "kernelspec": {
   "display_name": "base",
   "language": "python",
   "name": "python3"
  },
  "language_info": {
   "codemirror_mode": {
    "name": "ipython",
    "version": 3
   },
   "file_extension": ".py",
   "mimetype": "text/x-python",
   "name": "python",
   "nbconvert_exporter": "python",
   "pygments_lexer": "ipython3",
   "version": "3.10.9"
  },
  "orig_nbformat": 4
 },
 "nbformat": 4,
 "nbformat_minor": 2
}
