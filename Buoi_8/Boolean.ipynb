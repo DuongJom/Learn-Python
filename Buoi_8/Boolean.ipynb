{
 "cells": [
  {
   "attachments": {},
   "cell_type": "markdown",
   "metadata": {},
   "source": [
    "<center><b>KIỂU DỮ LIỆU BOOLEAN TRONG PYTHON</b></center>"
   ]
  },
  {
   "attachments": {},
   "cell_type": "markdown",
   "metadata": {},
   "source": [
    "Kiểu dữ liệu boolean chỉ có 2 giá trị là True hoặc False."
   ]
  },
  {
   "attachments": {},
   "cell_type": "markdown",
   "metadata": {},
   "source": [
    "**1. Các giá trị của kiểu dữ liệu Boolean**\n",
    "- Trong lập trình, bạn biết rằng một biểu thức nào đó sẽ có giá trị là <span style='color:pink; font-weight:bold;'>True(Đúng)</span> hoặc <span style='color:pink; font-weight: bold;'>False(Sai)</span>.\n",
    "- Bạn có thể đánh giá bất kì biểu thức nào trong Python, và bạn sẽ nhận được một trong hai giá trị là True hoặc False.\n",
    "- Khi bạn so sánh 2 giá trị thì biểu thức đó được đánh giá và Python sẽ trả về kết quả có kiểu dữ liệu là <span style='color:blue;'><b><i>Boolean</i></b></span>."
   ]
  },
  {
   "cell_type": "code",
   "execution_count": 1,
   "metadata": {},
   "outputs": [
    {
     "name": "stdout",
     "output_type": "stream",
     "text": [
      "True\n",
      "False\n",
      "False\n"
     ]
    }
   ],
   "source": [
    "print(10 > 9)\n",
    "print(10 == 9)\n",
    "print(10 < 9)"
   ]
  },
  {
   "attachments": {},
   "cell_type": "markdown",
   "metadata": {},
   "source": [
    "Khi mà bạn thực hiện một điều kiện trong một câu lệnh <b>if</b> thì python sẽ trả về True hoặc False."
   ]
  },
  {
   "cell_type": "code",
   "execution_count": 2,
   "metadata": {},
   "outputs": [
    {
     "name": "stdout",
     "output_type": "stream",
     "text": [
      "b is less than a\n"
     ]
    }
   ],
   "source": [
    "a = 200\n",
    "b = 100\n",
    "\n",
    "if b > a:\n",
    "    print(\"b is greater than a\")\n",
    "else:\n",
    "    print(\"b is less than a\")"
   ]
  },
  {
   "attachments": {},
   "cell_type": "markdown",
   "metadata": {},
   "source": [
    "**2. Đánh giá các giá trị và biến**\n",
    "<br>Hàm <b style='color:blue;'><i>bool()</i></b> cho phép bạn đánh giá bất kỳ giá trị nào, và sẽ trả về cho bạn kết quả là <b style='color:pink;'>True</b> hoặc <b style='color:pink;'>False</b>"
   ]
  },
  {
   "cell_type": "code",
   "execution_count": 5,
   "metadata": {},
   "outputs": [
    {
     "name": "stdout",
     "output_type": "stream",
     "text": [
      "True\n",
      "True\n",
      "False\n",
      "False\n"
     ]
    }
   ],
   "source": [
    "print(bool(\"Hello\"))\n",
    "print(bool(15))\n",
    "\n",
    "print(bool(\"\"))\n",
    "print(bool(0))"
   ]
  },
  {
   "cell_type": "code",
   "execution_count": 7,
   "metadata": {},
   "outputs": [
    {
     "name": "stdout",
     "output_type": "stream",
     "text": [
      "True\n",
      "True\n",
      "False\n",
      "False\n"
     ]
    }
   ],
   "source": [
    "x = \"Hello\"\n",
    "y = 15\n",
    "z = \"\"\n",
    "t = 0\n",
    "\n",
    "print(bool(x))\n",
    "print(bool(y))\n",
    "print(bool(z))\n",
    "print(bool(t))"
   ]
  },
  {
   "attachments": {},
   "cell_type": "markdown",
   "metadata": {},
   "source": [
    "**3. Các giá trị là <span style='color:pink;'>True</span>**\n",
    "- Hầu hết bất kỳ giá trị nào đều được xem là <span style='color:pink;'>True</span> nếu nó có nội dung.\n",
    "- Bất kỳ chuỗi nào đều có giá trị là <span style='color:pink;'>True</span>, ngoại trừ chuỗi rỗng.\n",
    "- Bất kỳ số nào cũng có giá trị là <span style='color:pink;'>True</span>, ngoại trừ số 0.\n",
    "- Bất kỳ đối tượng kiểu <b><span style='color:green;'>list, tuple, set và dictionary</span></b> cũng có giá trị là <span style='color:pink;'>True</span>, ngoại trừ đối tượng rỗng (không có phần tử)."
   ]
  },
  {
   "cell_type": "code",
   "execution_count": 8,
   "metadata": {},
   "outputs": [
    {
     "data": {
      "text/plain": [
       "True"
      ]
     },
     "execution_count": 8,
     "metadata": {},
     "output_type": "execute_result"
    }
   ],
   "source": [
    "bool(\"abc\")\n",
    "bool(123)\n",
    "bool([\"apple\", \"cherry\", \"banana\"])"
   ]
  },
  {
   "attachments": {},
   "cell_type": "markdown",
   "metadata": {},
   "source": [
    "**4. Các giá trị là <span style='color:blue;'>False</span>**\n",
    "<br>Không có nhiều giá trị được xem là <span style='color:blue'>False</span>, ngoại trừ giá trị rỗng, chẳng hạn như <b style='color:red;'>(), [], {}, \"\", số 0, và giá trị None</b>. Ngoài ra giá trị <span style='color:blue'>False</span> cũng được xem là <span style='color:blue'>False</span>."
   ]
  },
  {
   "cell_type": "code",
   "execution_count": 9,
   "metadata": {},
   "outputs": [
    {
     "data": {
      "text/plain": [
       "False"
      ]
     },
     "execution_count": 9,
     "metadata": {},
     "output_type": "execute_result"
    }
   ],
   "source": [
    "bool(False)\n",
    "bool(None)\n",
    "bool(0)\n",
    "bool(\"\")\n",
    "bool(())\n",
    "bool([])\n",
    "bool({})"
   ]
  },
  {
   "attachments": {},
   "cell_type": "markdown",
   "metadata": {},
   "source": [
    "*Một giá trị khác hoặc đối tượng trong trường hợp này sẽ được đánh giá là <span style='color:blue;'>False</span>, đó là nếu bạn có một đối tượng được tạo từ một class có hàm <b>&lowbar;&lowbar;len&lowbar;&lowbar;</b> trả về 0 hoặc <span style='color:blue;'>False</span>:*"
   ]
  },
  {
   "cell_type": "code",
   "execution_count": 10,
   "metadata": {},
   "outputs": [
    {
     "name": "stdout",
     "output_type": "stream",
     "text": [
      "False\n"
     ]
    }
   ],
   "source": [
    "class myclass():\n",
    "  def __len__(self):\n",
    "    return 0\n",
    "\n",
    "myobj = myclass()\n",
    "print(bool(myobj))"
   ]
  },
  {
   "attachments": {},
   "cell_type": "markdown",
   "metadata": {},
   "source": [
    "**5. Hàm có thể trả về kết quả <b style='color:#0078d7'>Boolean</b>**\n",
    "<br>Bạn có thể tạo một hàm mà nó trả về giá trị kiểu <b style='color:#0078d7'>Boolean</b>"
   ]
  },
  {
   "cell_type": "code",
   "execution_count": 11,
   "metadata": {},
   "outputs": [
    {
     "name": "stdout",
     "output_type": "stream",
     "text": [
      "True\n"
     ]
    }
   ],
   "source": [
    "def myFunction():\n",
    "    return True\n",
    "\n",
    "print(myFunction())"
   ]
  },
  {
   "attachments": {},
   "cell_type": "markdown",
   "metadata": {},
   "source": [
    "Bạn cũng có thể thực thi đoạn code dựa trên kết quả trả về của hàm:"
   ]
  },
  {
   "cell_type": "code",
   "execution_count": 12,
   "metadata": {},
   "outputs": [
    {
     "name": "stdout",
     "output_type": "stream",
     "text": [
      "YES!\n"
     ]
    }
   ],
   "source": [
    "def myFunction():\n",
    "    return True\n",
    "\n",
    "if myFunction():\n",
    "    print('YES!')\n",
    "else:\n",
    "    print('NO!')"
   ]
  },
  {
   "attachments": {},
   "cell_type": "markdown",
   "metadata": {},
   "source": [
    "*Python cũng có nhiều hàm trả về giá trị kiểu boolean và được xây dựng sẵn, chẳng hạn như <i style='color:pink;'>isinstance(), isalnum(), isalpha(),...</i>"
   ]
  },
  {
   "cell_type": "code",
   "execution_count": 13,
   "metadata": {},
   "outputs": [
    {
     "name": "stdout",
     "output_type": "stream",
     "text": [
      "True\n"
     ]
    }
   ],
   "source": [
    "x = 200\n",
    "print(isinstance(x, int))"
   ]
  },
  {
   "cell_type": "code",
   "execution_count": 15,
   "metadata": {},
   "outputs": [
    {
     "name": "stdout",
     "output_type": "stream",
     "text": [
      "False\n"
     ]
    }
   ],
   "source": [
    "x = 200\n",
    "print(isinstance(x, str))"
   ]
  },
  {
   "attachments": {},
   "cell_type": "markdown",
   "metadata": {},
   "source": [
    "<footer style='margin: 50px 50px 0px 0px;'>\n",
    "    <div>\n",
    "    <hr/>\n",
    "    Biên dịch: Nguyễn Ngọc Dương \n",
    "    <br>Facebook: <a href=\"https://www.facebook.com/danh.kean.353803/\">https://www.facebook.com/danh.kean.353803/</a>\n",
    "    <br>Email: <a>ngocduong5642@gmail.com</a>\n",
    "    <div>\n",
    "</footer>"
   ]
  }
 ],
 "metadata": {
  "kernelspec": {
   "display_name": "base",
   "language": "python",
   "name": "python3"
  },
  "language_info": {
   "codemirror_mode": {
    "name": "ipython",
    "version": 3
   },
   "file_extension": ".py",
   "mimetype": "text/x-python",
   "name": "python",
   "nbconvert_exporter": "python",
   "pygments_lexer": "ipython3",
   "version": "3.10.9"
  },
  "orig_nbformat": 4
 },
 "nbformat": 4,
 "nbformat_minor": 2
}
